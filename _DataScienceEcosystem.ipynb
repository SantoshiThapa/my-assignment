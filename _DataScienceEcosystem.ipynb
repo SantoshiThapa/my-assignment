{
 "cells": [
  {
   "cell_type": "markdown",
   "id": "a8251a8e-088c-43db-a7b8-e642e638dc37",
   "metadata": {},
   "source": [
    "# Data Science Tools and Ecosystem"
   ]
  },
  {
   "cell_type": "markdown",
   "id": "aee2d8c4-f392-48ea-84a7-b49707011b4e",
   "metadata": {},
   "source": [
    "In this notebook, Data Science Tools and Ecosystem are summarized."
   ]
  },
  {
   "cell_type": "markdown",
   "id": "14a909c8-3c0a-47bc-a0a5-df215acb65a7",
   "metadata": {},
   "source": [
    "**Objectives:**\n",
    "* List popular languages for Data Science\n",
    "* List commonly used libraries used by Data Scientists\n",
    "* Table of Data Science tools\n",
    "*  examples of evaluating arithmetic expressions in Python\r\n"
   ]
  },
  {
   "cell_type": "markdown",
   "id": "2c95b07a-2196-4625-a54c-c8ffb554b05c",
   "metadata": {},
   "source": [
    " Some of the popular languages that Data Scientists use are:\n",
    "1. Python\n",
    "2. R\n",
    "3. Julia\n",
    "4. Scala\n",
    "5. SQL"
   ]
  },
  {
   "cell_type": "markdown",
   "id": "1eca79c1-f4b9-4949-9f02-881b857edfbf",
   "metadata": {},
   "source": [
    "Some of the commonly used libraries used by Data Scientists include:\n",
    "1. NumPy\n",
    "2. Pandas\n",
    "3. Matplotlib\n",
    "4. Keras\n",
    "5. SciPy"
   ]
  },
  {
   "cell_type": "markdown",
   "id": "8039aa68-457e-4fe9-b171-7caf4f3fba36",
   "metadata": {},
   "source": [
    "|Data Science Tools|\n",
    "|------|\n",
    "|Jupyter notebook|\n",
    "|RStudio|\n",
    "| VS Code|\n"
   ]
  },
  {
   "cell_type": "markdown",
   "id": "5bdab2ed-a56c-4508-abbf-0d272dfd2d97",
   "metadata": {},
   "source": [
    "### Below are a few examples of evaluating arithmetic expressions in Python"
   ]
  },
  {
   "cell_type": "code",
   "execution_count": 4,
   "id": "8649729e-32af-4e47-adf9-1736641356ef",
   "metadata": {},
   "outputs": [
    {
     "data": {
      "text/plain": [
       "17"
      ]
     },
     "execution_count": 4,
     "metadata": {},
     "output_type": "execute_result"
    }
   ],
   "source": [
    "#This a simple arithmetic expression to mutiply then add integers\n",
    "(3*4)+5"
   ]
  },
  {
   "cell_type": "code",
   "execution_count": 7,
   "id": "e3b265ca-dd3c-41ac-9497-e8f0490cbb34",
   "metadata": {},
   "outputs": [
    {
     "name": "stdout",
     "output_type": "stream",
     "text": [
      "the value of 200 minutes in hours is 3.3333333333333335\n"
     ]
    }
   ],
   "source": [
    "#This will convert 200 minutes to hours by diving by 60\n",
    "x = 200/60\n",
    "print(\"the value of 200 minutes in hours is\",x)"
   ]
  },
  {
   "cell_type": "markdown",
   "id": "23ea6b4b-942d-42c4-919e-eed0868ac41a",
   "metadata": {},
   "source": [
    "## Author\n",
    "Santoshi Thapa"
   ]
  },
  {
   "cell_type": "code",
   "execution_count": null,
   "id": "f9503c34-cecf-4feb-a846-f48fc665af45",
   "metadata": {},
   "outputs": [],
   "source": []
  }
 ],
 "metadata": {
  "kernelspec": {
   "display_name": "Python 3 (ipykernel)",
   "language": "python",
   "name": "python3"
  },
  "language_info": {
   "codemirror_mode": {
    "name": "ipython",
    "version": 3
   },
   "file_extension": ".py",
   "mimetype": "text/x-python",
   "name": "python",
   "nbconvert_exporter": "python",
   "pygments_lexer": "ipython3",
   "version": "3.11.9"
  }
 },
 "nbformat": 4,
 "nbformat_minor": 5
}
